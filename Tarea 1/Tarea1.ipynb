{
 "cells": [
  {
   "cell_type": "markdown",
   "id": "0b7006c6",
   "metadata": {},
   "source": [
    "# Tarea 1"
   ]
  },
  {
   "cell_type": "markdown",
   "id": "5f2e521a",
   "metadata": {},
   "source": [
    "Algoritmo binario extendido de Euclides:"
   ]
  },
  {
   "cell_type": "code",
   "execution_count": 1,
   "id": "5986c5e8",
   "metadata": {},
   "outputs": [],
   "source": [
    "def bxeuc(m: int,n: int) -> tuple:\n",
    "    if m == n == 0:\n",
    "        return 0, 0, 0\n",
    "    g = 1\n",
    "    while (m&1)==0 and (n&1)==0: # mientras m y n son par \n",
    "        m, n, g = m>>1, n>>1, g<<1  # m<-m/2, n=n/2, g=2*g\n",
    "    u, v, A, B, C, D = m, n, 1, 0, 0, 1\n",
    "    while u != 0:\n",
    "        while (u&1) == 0: # mientras u es par\n",
    "            u = u>>1 \n",
    "            if (A&1) == (B&1) == 0:\n",
    "                A, B = A>>1, (B)>>1\n",
    "            else:\n",
    "                A, B = (A+n) >> 1, (B-m) >> 1\n",
    "        while (v&1) == 0: # mientras v es par\n",
    "            v = v>>1 \n",
    "            if (C&1) == (D&1) == 0:\n",
    "                C, D = C>>1, D>>1 \n",
    "            else:\n",
    "                C, D = (C+n)>>1, (D-m)>>1 \n",
    "        if u >= v:\n",
    "            u, A, B = u-v, A-C, B-D\n",
    "        else:\n",
    "            v, C, D = v-u, C-A, D-B\n",
    "    g, u, v = g*v, C, D\n",
    "    return g, u, v # verifican g = u*m + v*n, con g=gcd(m,n)"
   ]
  },
  {
   "cell_type": "markdown",
   "id": "4f0d377f",
   "metadata": {},
   "source": [
    "Vemos un par de ejemplos..."
   ]
  },
  {
   "cell_type": "code",
   "execution_count": 2,
   "id": "bd095430",
   "metadata": {},
   "outputs": [],
   "source": [
    "g,u,v = bxeuc(228,612)"
   ]
  },
  {
   "cell_type": "code",
   "execution_count": 3,
   "id": "a62643e8",
   "metadata": {},
   "outputs": [
    {
     "data": {
      "text/plain": [
       "(12, 43, -16)"
      ]
     },
     "execution_count": 3,
     "metadata": {},
     "output_type": "execute_result"
    }
   ],
   "source": [
    "g,u,v"
   ]
  },
  {
   "cell_type": "code",
   "execution_count": 4,
   "id": "d7da72db",
   "metadata": {},
   "outputs": [
    {
     "data": {
      "text/plain": [
       "True"
      ]
     },
     "execution_count": 4,
     "metadata": {},
     "output_type": "execute_result"
    }
   ],
   "source": [
    "g == u*228 + v*612"
   ]
  },
  {
   "cell_type": "code",
   "execution_count": 5,
   "id": "1efaae30",
   "metadata": {},
   "outputs": [],
   "source": [
    "g,u,v = bxeuc(693, 609)"
   ]
  },
  {
   "cell_type": "code",
   "execution_count": 6,
   "id": "872541e7",
   "metadata": {},
   "outputs": [
    {
     "data": {
      "text/plain": [
       "(21, -181, 206)"
      ]
     },
     "execution_count": 6,
     "metadata": {},
     "output_type": "execute_result"
    }
   ],
   "source": [
    "g,u,v"
   ]
  },
  {
   "cell_type": "code",
   "execution_count": 7,
   "id": "a8d71497",
   "metadata": {},
   "outputs": [
    {
     "data": {
      "text/plain": [
       "True"
      ]
     },
     "execution_count": 7,
     "metadata": {},
     "output_type": "execute_result"
    }
   ],
   "source": [
    "g == u*693 + v*609"
   ]
  },
  {
   "cell_type": "markdown",
   "id": "c0fd754f",
   "metadata": {},
   "source": [
    "Referencia: secc 14.4.3  Handbook of Applied Cryptography by Menezes, van Oorschot and Vanstone"
   ]
  }
 ],
 "metadata": {
  "kernelspec": {
   "display_name": "Python 3",
   "language": "python",
   "name": "python3"
  },
  "language_info": {
   "codemirror_mode": {
    "name": "ipython",
    "version": 3
   },
   "file_extension": ".py",
   "mimetype": "text/x-python",
   "name": "python",
   "nbconvert_exporter": "python",
   "pygments_lexer": "ipython3",
   "version": "3.8.8"
  }
 },
 "nbformat": 4,
 "nbformat_minor": 5
}
