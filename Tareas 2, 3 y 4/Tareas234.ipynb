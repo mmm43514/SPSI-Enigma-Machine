{
 "cells": [
  {
   "cell_type": "markdown",
   "id": "c4032824",
   "metadata": {},
   "source": [
    "# Tarea 2"
   ]
  },
  {
   "cell_type": "markdown",
   "id": "d3c4d650",
   "metadata": {},
   "source": [
    "Mostramos la implementación:"
   ]
  },
  {
   "cell_type": "code",
   "execution_count": null,
   "id": "ed6880f1",
   "metadata": {},
   "outputs": [],
   "source": [
    "ENIGMA_ALPHABET = \"ABCDEFGHIJKLMNOPQRSTUVWXYZ\" # alfabeto\n",
    "# diccionario, letra del alfabeto -> índice numérico del alfabeto\n",
    "ch_ind = {ENIGMA_ALPHABET[i]: i for i in range(26)}\n",
    "# tupla, índice numérico del alfabeto -> letra del alfabeto\n",
    "ind_ch = tuple(ENIGMA_ALPHABET[i] for i in range(26))\n",
    "\n",
    "# notches indicará las letras que se ven en la ventana antes de que al pulsar\n",
    "# tecla pawl engache un notch, notches se usará en caso de los rotores\n",
    "class CompData:\n",
    "    def __init__(self, outputs, notches = None):\n",
    "        self.outputs = outputs\n",
    "        self.notches = notches\n",
    "\n",
    "# Datos de rotores\n",
    "ROTORS = {\n",
    "    # 5 rotores extendidos en 1939, con un único notch\n",
    "    '1': CompData('EKMFLGDQVZNTOWYHXUSPAIBRCJ', 'Q'),\n",
    "    '2': CompData('AJDKSIRUXBLHWTMCQGZNPYFVOE', 'E'),\n",
    "    '3': CompData('BDFHJLCPRTXVZNYEIWGAKMUSQO', 'V'),\n",
    "    '4': CompData('ESOVPZJAYQUIRHXLNFTGKDCMWB', 'J'),\n",
    "    '5': CompData('VZBRGITYUPSDNHLXAWMJQOFECK', 'Z'),\n",
    "    # 3 rotores adicionales añadidos por Kriegsmarine, tienen dos notches\n",
    "    '6': CompData('JPGVOUMFYQBENHZRDKASXLICTW', 'ZM'),\n",
    "    '7': CompData('NZJHGRCXMYSWBOUFAIVLPEKQDT', 'ZM'),\n",
    "    '8': CompData('FKQHTLXOCBJSPDZRAMEWNIUYGV', 'ZM'),\n",
    "    # Cuarto rotor (1942), usados exclusivamente por M4 con reflectores delgados\n",
    "    'b': CompData('LEYJVCNIXWPBQMDRTAKZGFUHOS', None),\n",
    "    'g': CompData('FSOKANUERHMBTIYCWLQPZXVGJD', None)\n",
    "}\n",
    "\n",
    "# Datos de reflectores\n",
    "REFLECTORS = {\n",
    "    # Reflectores iniciales Enigma I\n",
    "    'B': CompData('YRUHQSLDPXNGOKMIEBFZCWVJAT'),\n",
    "    'C': CompData('FVPJIAOYEDRZXWGCTKUQSBNMHL'),\n",
    "    # Reflectores añadidos por Kriegsmarine que permiten espacio para\n",
    "    # el cuarto rotor:\n",
    "    'B Thin': CompData('ENKQAUYWJICOPBLMDXZVFTHRGS'),\n",
    "    'C Thin': CompData('RDOBJNTKVEHMLFCWZAXGYIPSUQ')\n",
    "}"
   ]
  },
  {
   "cell_type": "code",
   "execution_count": null,
   "id": "deece04d",
   "metadata": {},
   "outputs": [],
   "source": [
    "class Rotor:\n",
    "    def __init__(self, outputs: str, ringst_chr: str, notches: str):\n",
    "        \"\"\"\n",
    "        Inicialización.\n",
    "        Params:\n",
    "            outputs: string con la salidas que efectúa el rotor a cada letra\n",
    "             del alfabeto dispuestas en orden\n",
    "            ringst_char: letra que queda en primer contacto del rotor por el\n",
    "             deslizamiento por ringstellung\n",
    "            notches: string con letras visibles en ventanilla cuando una muesca\n",
    "             está sobre pawl (\"el trinquete\")\n",
    "        \"\"\"\n",
    "        ringst_offset = ch_ind[ringst_chr] # a índice numérico\n",
    "        # tupla con los índices numéricos de las salidas de las conexiones\n",
    "        self.connections = tuple(ch_ind[c] for c in outputs)\n",
    "        # tupla inversa de connections para la transmisión después de reflector\n",
    "        inv_connects_l = [None] * 26\n",
    "        for i, c in enumerate(self.connections):\n",
    "            inv_connects_l[c] = i\n",
    "        self.inv_connections = tuple(inv_connects_l)\n",
    "\n",
    "        # posiciones del rotor en las que un \"trinquete\" enganchará notch\n",
    "        # (posiciones \"deshaciendo ringstellung\")\n",
    "        self.p_notches_pos = None if notches is None else \\\n",
    "        tuple(ch_ind[n] - ringst_offset for n in notches)\n",
    "\n",
    "        self.ringstellung = ringst_offset\n",
    "        self.pos = 0 # posición inicial\n",
    "\n",
    "    def set_window_position(self, pos: int):\n",
    "        \"\"\"\n",
    "        Coloca el rotor en posición que deje al índice de letra pos\n",
    "        visible en la ventanilla\n",
    "        \"\"\"\n",
    "        # colocamos rotor en posición real, \"deshaciendo ringstellung\"\n",
    "        self.pos = (pos - self.ringstellung) % 26\n",
    "\n",
    "    def transmit(self, contact: int, before_reflector: bool) -> int:\n",
    "        \"\"\"\n",
    "        Transmite señal a través del rotor\n",
    "        \"\"\"\n",
    "        # contacto receptor de la señal en su posición de rotación\n",
    "        r_contact = (contact + self.pos) % 26\n",
    "        # contacto transmitido, relativo a la rotación del rotor\n",
    "        t_contact_rel = self.connections[r_contact] if before_reflector \\\n",
    "        else self.inv_connections[r_contact]\n",
    "\n",
    "        # contacto transmitido en posición absoluta\n",
    "        t_contact_abs = (t_contact_rel - self.pos) % 26\n",
    "\n",
    "        return t_contact_abs\n",
    "\n",
    "    def rotate(self):\n",
    "        \"\"\"\n",
    "        Rota el rotor\n",
    "        \"\"\"\n",
    "        self.pos = (self.pos + 1) % 26 # rota actualizando posición\n",
    "\n",
    "    def pawl_drops_into_notch(self) -> bool:\n",
    "        \"\"\"\n",
    "        Comprobueba si el notch (muesca) está sobre los \"trinquetes\" (pawls) y\n",
    "        por tanto será enganchado al pulsar tecla\n",
    "        \"\"\"\n",
    "        # devuelve si notch será enganchado al pulsar tecla\n",
    "        return self.pos in self.p_notches_pos\n"
   ]
  },
  {
   "cell_type": "code",
   "execution_count": null,
   "id": "8389268e",
   "metadata": {},
   "outputs": [],
   "source": [
    "class Reflector:\n",
    "    def __init__(self, outputs: str):\n",
    "        \"\"\"\n",
    "        Inicialización.\n",
    "        Params:\n",
    "            outputs: string con la salidas que efectúa el reflector a cada letra\n",
    "             del alfabeto dispuestas en orden\n",
    "        \"\"\"\n",
    "        # conexiones, tupla con los contactos de salida\n",
    "        self.connections = tuple(ch_ind[c] for c in outputs)\n",
    "\n",
    "    def transmit(self, contact: int) -> int:\n",
    "        \"\"\"\n",
    "        Transmite señal a través del reflector\n",
    "        \"\"\"\n",
    "        # devolvemos contacto al que transmite\n",
    "        return self.connections[contact]\n"
   ]
  },
  {
   "cell_type": "code",
   "execution_count": null,
   "id": "b8c0ddc1",
   "metadata": {},
   "outputs": [],
   "source": [
    "class Plugboard:\n",
    "    def __init__(self, swaps: str):\n",
    "        \"\"\"\n",
    "        Inicialización.\n",
    "        Params:\n",
    "            swaps: string con parejas de letras conectadas en Plugboard\n",
    "        \"\"\"\n",
    "        # diccionario que realiza los intercambios correspondientes por las\n",
    "        # conexiones dadas en swaps\n",
    "        cable_swaps = {ch_ind[p[i]]: ch_ind[p[(i+1)%2]] for p in swaps.split() for i in range(2)}\n",
    "        # tupla con las salidas tras el plugboard, salidas por intercambio por\n",
    "        # cable conectado y salidas que quedan igual por no haber cable (más\n",
    "        # eficiente que comprobar si hay intercambio en cable_swaps)\n",
    "        self.swaps = tuple(cable_swaps[i] if i in cable_swaps else i for i in range(26))\n",
    "\n",
    "    def swap(self, c: int) -> int:\n",
    "        \"\"\"\n",
    "        Da la salida determinada por la configuración del plugboard\n",
    "        \"\"\"\n",
    "        # devuelve salida correspondiente\n",
    "        return self.swaps[c]\n"
   ]
  },
  {
   "cell_type": "code",
   "execution_count": null,
   "id": "5efcc16c",
   "metadata": {},
   "outputs": [],
   "source": [
    "class EnigmaMachine:\n",
    "    def __init__(self, pb_settings: str, sorted_rotors: str, ringstellung: str,\\\n",
    "     reflector: str):\n",
    "        \"\"\"\n",
    "        Inicialización.\n",
    "        Params:\n",
    "            pb_settings: parejas de letras conectadas en Plugboard\n",
    "            sorted_rotors: nombres de los rotores a usar vistos de izqda a dcha\n",
    "             en la máquina\n",
    "            ringstellung: letras en primer contacto de cada rotor tras\n",
    "             deslizamientos por ringstellung\n",
    "            reflector: nombre del reflector a usar\n",
    "        \"\"\"\n",
    "        rotors_t = tuple(sorted_rotors) # tupla con los rotores a usar\n",
    "\n",
    "        # Se crea tupla con los rotores\n",
    "        rotors = tuple( Rotor(r_data.outputs, rr[1], r_data.notches) for rr in \\\n",
    "        zip(rotors_t, ringstellung) if (r_data := ROTORS[rr[0]]) )\n",
    "\n",
    "        self.plugboard = Plugboard(pb_settings)\n",
    "        self.rotors = rotors\n",
    "        self.reflector = Reflector(REFLECTORS[reflector].outputs)\n",
    "\n",
    "    def _rotate_rotors(self):\n",
    "        \"\"\"\n",
    "        Rota los rotores que correspondan\n",
    "        \"\"\"\n",
    "        # Rotores candidatos a rotar (todos menos el cuarto rotor)\n",
    "        cand_rotors = self.rotors[-3:]\n",
    "        # Crearemos tupla booleana para rotores que rotarán, el primero siempre\n",
    "        # rota. Para los otros dos comprobamos si notch es enganchado\n",
    "        # - primer rotor rota siempre (no tiene rotor a dcha)\n",
    "        # - segundo rotor rota si el segundo pawl engancha notch de primer rotor\n",
    "        #   o si tercer pawl engancha notch de segundo rotor\n",
    "        # - tercer rotor rota si tercer pawl engancha notch de segundo rotor\n",
    "        to_rotate2 = cand_rotors[-2].pawl_drops_into_notch()\n",
    "        rotates = \\\n",
    "        (to_rotate2, cand_rotors[-1].pawl_drops_into_notch() or to_rotate2, 1)\n",
    "        # Rotamos los rotores que corresponden rotar\n",
    "        for i, r in enumerate(cand_rotors):\n",
    "            if rotates[i]:\n",
    "                r.rotate()\n",
    "\n",
    "    def _transmission(self, c: int) -> int:\n",
    "        \"\"\"\n",
    "        Efectúa la transmisión del índice de letra c a través de la máquina\n",
    "        \"\"\"\n",
    "        # Intercambiamos por plugboard\n",
    "        contact = self.plugboard.swap(c)\n",
    "        # Transmitimos por los contactos de rotores de \"derecha a izquierda\"\n",
    "        for r in self.rotors[::-1]:\n",
    "            contact = r.transmit(contact, True)\n",
    "        # Transmitimos a reflector\n",
    "        contact = self.reflector.transmit(contact)\n",
    "        # Transmitimos de vuelta por los rotores\n",
    "        for r in self.rotors:\n",
    "            contact = r.transmit(contact, False)\n",
    "        # Devolvemos el intercambio por plugboard\n",
    "        return self.plugboard.swap(contact)\n",
    "\n",
    "    def grundstellung(self, win_pos_list: str):\n",
    "        \"\"\"\n",
    "        Se colocan rotores en las posiciones que dejan los caracteres de\n",
    "        win_pos_list visibles en ventanilla\n",
    "        \"\"\"\n",
    "        for rotor, pos in zip(self.rotors, win_pos_list):\n",
    "            rotor.set_window_position(ch_ind[pos])\n",
    "\n",
    "    def encipher_chr(self, chr: str) -> str:\n",
    "        \"\"\"\n",
    "        Cifra una letra pulsada\n",
    "        \"\"\"\n",
    "        # Se rotan los rotores que correspondan\n",
    "        self._rotate_rotors()\n",
    "        # Se devuelve caracter cifrado\n",
    "        return ind_ch[self._transmission(ch_ind[chr])]\n",
    "\n",
    "    def encipher_text(self, text: str) -> str:\n",
    "        \"\"\"\n",
    "        Cifra un texto letra a letra\n",
    "        \"\"\"\n",
    "        enciphered_text = ''\n",
    "        # Se cifra el texto letra a letra\n",
    "        for c in text:\n",
    "            enciphered_text += self.encipher_chr(c)\n",
    "        # Se devuelve el texto cifrado\n",
    "        return enciphered_text\n"
   ]
  },
  {
   "cell_type": "markdown",
   "id": "55ba52b7",
   "metadata": {},
   "source": [
    "La máquina M4 es compatible con la M3 usando reflector B delgado (B Thin) junto con cuarto rotor beta en posición A y ringstellung A, o reflector C con rotor gamma. Un ejemplo simulado (ficticio) para keysheet de Octubre 1944, en día 31 (http://users.telenet.be/d.rijmenants/pics/hires-wehrmachtkey-stab.jpg) :"
   ]
  },
  {
   "cell_type": "code",
   "execution_count": null,
   "id": "61cc0d7f",
   "metadata": {},
   "outputs": [],
   "source": [
    "sender_machine = EnigmaMachine(\n",
    " pb_settings='KL IT FQ HY XC NP VZ JB SE OG',\n",
    " sorted_rotors='b451', \n",
    " ringstellung='A'+ind_ch[21]+ind_ch[15]+ind_ch[16],\n",
    " reflector='B Thin'\n",
    "       )\n",
    "       \n",
    "sender_machine.grundstellung('ALFD') # 'LFD' aleatorio, se enviará con el mensaje\n",
    "msg_key = sender_machine.encipher_text('RLO') # 'RLO' aleatorio, msg_key se enviará con el mensaje"
   ]
  },
  {
   "cell_type": "code",
   "execution_count": null,
   "id": "7522d626",
   "metadata": {},
   "outputs": [],
   "source": [
    "msg_key"
   ]
  },
  {
   "cell_type": "code",
   "execution_count": null,
   "id": "692f76b1",
   "metadata": {},
   "outputs": [],
   "source": [
    "sender_machine.grundstellung('A'+'RLO')"
   ]
  },
  {
   "cell_type": "markdown",
   "id": "0d990e32",
   "metadata": {},
   "source": [
    "El emisor mandará el mensaje: \"DIEVRAKETENTREFFENERFOLGREICH\" -> Die V Raketen treffen erfolgreich (Los misiles V impactaron con éxito)"
   ]
  },
  {
   "cell_type": "code",
   "execution_count": null,
   "id": "9a222fca",
   "metadata": {},
   "outputs": [],
   "source": [
    "mess='DIEVRAKETENTREFFENERFOLGREICH'"
   ]
  },
  {
   "cell_type": "code",
   "execution_count": null,
   "id": "407d685e",
   "metadata": {
    "scrolled": true
   },
   "outputs": [],
   "source": [
    "enciphered_message = sender_machine.encipher_text(mess) # ciframos"
   ]
  },
  {
   "cell_type": "markdown",
   "id": "f04c8c72",
   "metadata": {},
   "source": [
    "Mostramos texto cifrado:"
   ]
  },
  {
   "cell_type": "code",
   "execution_count": null,
   "id": "5bb0a651",
   "metadata": {},
   "outputs": [],
   "source": [
    "enciphered_message"
   ]
  },
  {
   "cell_type": "markdown",
   "id": "209af0f0",
   "metadata": {},
   "source": [
    "El mensaje se envía con grupo de 5 letras que indica Kenngruppen:"
   ]
  },
  {
   "cell_type": "code",
   "execution_count": null,
   "id": "dbb5dd5c",
   "metadata": {},
   "outputs": [],
   "source": [
    "'ZTJKM'+enciphered_message"
   ]
  },
  {
   "cell_type": "markdown",
   "id": "a44f96c2",
   "metadata": {},
   "source": [
    "El receptor ha de tener la misma configuración en la máquina (clave simétrica)"
   ]
  },
  {
   "cell_type": "code",
   "execution_count": null,
   "id": "d6ab3cad",
   "metadata": {},
   "outputs": [],
   "source": [
    "receiver_machine = EnigmaMachine(\n",
    " pb_settings='KL IT FQ HY XC NP VZ JB SE OG',\n",
    " sorted_rotors='b451', \n",
    " ringstellung='A'+ind_ch[21]+ind_ch[15]+ind_ch[16],\n",
    " reflector='B Thin'\n",
    "       )\n",
    "\n",
    "receiver_machine.grundstellung('ALFD')\n",
    "un_msg_key = receiver_machine.encipher_text(msg_key)\n",
    "un_msg_key"
   ]
  },
  {
   "cell_type": "code",
   "execution_count": null,
   "id": "4d75eb65",
   "metadata": {},
   "outputs": [],
   "source": [
    "receiver_machine.grundstellung('A'+un_msg_key) # ajusta rotores en posiciones correspondientes"
   ]
  },
  {
   "cell_type": "markdown",
   "id": "541f6df5",
   "metadata": {},
   "source": [
    "Ahora descifra el mensaje sin los primeros cinco caracteres que indican Kenngruppen"
   ]
  },
  {
   "cell_type": "code",
   "execution_count": null,
   "id": "12eeeb39",
   "metadata": {},
   "outputs": [],
   "source": [
    "received_mess=receiver_machine.encipher_text(enciphered_message); received_mess"
   ]
  },
  {
   "cell_type": "markdown",
   "id": "80b7a5df",
   "metadata": {},
   "source": [
    "Que sería: \"Die V Raketen treffen erfolgreich\" (Los misiles V impactaron con éxito)"
   ]
  },
  {
   "cell_type": "markdown",
   "id": "377e148e",
   "metadata": {},
   "source": [
    "Podemos comprobar que es correcto"
   ]
  },
  {
   "cell_type": "code",
   "execution_count": null,
   "id": "66a1eb5b",
   "metadata": {},
   "outputs": [],
   "source": [
    "received_mess == mess"
   ]
  },
  {
   "cell_type": "markdown",
   "id": "8c7b06b1",
   "metadata": {},
   "source": [
    "Referencias:\n",
    "\n",
    "http://users.telenet.be/d.rijmenants/en/enigmatech.htm\n",
    "\n",
    "http://users.telenet.be/d.rijmenants/en/enigmaproc.htm"
   ]
  },
  {
   "cell_type": "markdown",
   "id": "8da35f12",
   "metadata": {},
   "source": [
    "Nuestro simulador también nos hubiese permitido simular/operar como una M3 de la siguiente forma (abreviamos todos los pasos y comentarios para no ser redundantes):"
   ]
  },
  {
   "cell_type": "code",
   "execution_count": null,
   "id": "b6268c2a",
   "metadata": {},
   "outputs": [],
   "source": [
    "sender_machine = EnigmaMachine(\n",
    " pb_settings='KL IT FQ HY XC NP VZ JB SE OG',\n",
    " sorted_rotors='451', \n",
    " ringstellung=ind_ch[21]+ind_ch[15]+ind_ch[16],\n",
    " reflector='B'\n",
    "       )\n",
    "       \n",
    "sender_machine.grundstellung('LFD') # 'LFD' aleatorio, se enviará con el mensaje\n",
    "msg_key = sender_machine.encipher_text('RLO') # 'RLO' aleatorio, msg_key se enviará con el mensaje\n",
    "msg_key"
   ]
  },
  {
   "cell_type": "code",
   "execution_count": null,
   "id": "8be5cb44",
   "metadata": {},
   "outputs": [],
   "source": [
    "sender_machine.grundstellung('RLO')"
   ]
  },
  {
   "cell_type": "code",
   "execution_count": null,
   "id": "5ffb7c30",
   "metadata": {},
   "outputs": [],
   "source": [
    "mess='DIEVRAKETENTREFFENERFOLGREICH'"
   ]
  },
  {
   "cell_type": "code",
   "execution_count": null,
   "id": "36ceed26",
   "metadata": {},
   "outputs": [],
   "source": [
    "enciphered_message = sender_machine.encipher_text(mess); enciphered_message"
   ]
  },
  {
   "cell_type": "markdown",
   "id": "d606c898",
   "metadata": {},
   "source": [
    "El mensaje se envía con grupo de 5 letras que indica Kenngruppen: 'ZTJKM'+enciphered_message"
   ]
  },
  {
   "cell_type": "markdown",
   "id": "cc069ac1",
   "metadata": {},
   "source": [
    "Receptor:"
   ]
  },
  {
   "cell_type": "code",
   "execution_count": null,
   "id": "89eccc25",
   "metadata": {},
   "outputs": [],
   "source": [
    "receiver_machine = EnigmaMachine(\n",
    " pb_settings='KL IT FQ HY XC NP VZ JB SE OG',\n",
    " sorted_rotors='451', \n",
    " ringstellung=ind_ch[21]+ind_ch[15]+ind_ch[16],\n",
    " reflector='B'\n",
    "       )\n",
    "\n",
    "receiver_machine.grundstellung('LFD')\n",
    "un_msg_key = receiver_machine.encipher_text(msg_key)\n",
    "un_msg_key"
   ]
  },
  {
   "cell_type": "code",
   "execution_count": null,
   "id": "27fd0a92",
   "metadata": {},
   "outputs": [],
   "source": [
    "receiver_machine.grundstellung(un_msg_key)"
   ]
  },
  {
   "cell_type": "code",
   "execution_count": null,
   "id": "9b640aab",
   "metadata": {},
   "outputs": [],
   "source": [
    "received_mess=receiver_machine.encipher_text(enciphered_message); received_mess"
   ]
  },
  {
   "cell_type": "code",
   "execution_count": null,
   "id": "107b0d3b",
   "metadata": {},
   "outputs": [],
   "source": [
    "received_mess == mess"
   ]
  },
  {
   "cell_type": "markdown",
   "id": "85f1481a",
   "metadata": {},
   "source": [
    "# Tarea 3"
   ]
  },
  {
   "cell_type": "markdown",
   "id": "af45386c",
   "metadata": {},
   "source": [
    "Configuración de la máquina:"
   ]
  },
  {
   "cell_type": "code",
   "execution_count": null,
   "id": "6dc34958",
   "metadata": {},
   "outputs": [],
   "source": [
    "machine = EnigmaMachine(\n",
    " pb_settings='AE BF CM DQ HU JN LX PR SZ VW',\n",
    " sorted_rotors='b568',\n",
    " ringstellung='EPEL',\n",
    " reflector='C Thin'\n",
    "       )\n",
    "       \n",
    "machine.grundstellung('NAEM')\n",
    "\n",
    "msg_key = machine.encipher_text('QEOB')\n",
    "\n",
    "machine.grundstellung(msg_key)"
   ]
  },
  {
   "cell_type": "code",
   "execution_count": null,
   "id": "c2bd7bae",
   "metadata": {},
   "outputs": [],
   "source": [
    "source_text = \"DUHF TETO LANO TCTO UARB BFPM HPHG CZXT DYGA HGUF XGEW KBLK GJWL QXXT\\\n",
    "GPJJ AVTO CKZF SLPP QIHZ FXOE BWII EKFZ LCLO AQJU LJOY HSSM BBGW HZAN\\\n",
    "VOII PYRB RTDJ QDJJ OQKC XWDN BBTY VXLY TAPG VEAT XSON PNYN QFUD BBHH\\\n",
    "VWEP YEYD OHNL XKZD NWRH DUWU JUMW WVII WZXI VIUQ DRHY MNCY EFUA PNHO\\\n",
    "TKHK GDNP SAKN UAGH JZSM JBMH VTRE QEDG XHLZ WIFU SKDQ VELN MIMI THBH\\\n",
    "DBWV HDFY HJOQ IHOR TDJD BWXE MEAY XGYQ XOHF DMYU XXNO JAZR SGHP LWML\\\n",
    "RECW WUTL RTTV LBHY OORG LGOW UXNX HMHY FAAC QEKT HSJW DUHF TETO\""
   ]
  },
  {
   "cell_type": "markdown",
   "id": "85d9d005",
   "metadata": {},
   "source": [
    "Eliminamos los 2 primeros grupos de 4 letras y los dos últimos ya que están para verificar correcta recepción y no son parte del mensaje como tal. También eliminamos espacios pues no están en el alfabeto de la Máquina Enigma."
   ]
  },
  {
   "cell_type": "code",
   "execution_count": null,
   "id": "7dcd4bbb",
   "metadata": {},
   "outputs": [],
   "source": [
    "ciphertext = source_text.replace(\"DUHF TETO\", \"\").replace(\" \",\"\") "
   ]
  },
  {
   "cell_type": "markdown",
   "id": "5cc321e0",
   "metadata": {},
   "source": [
    "Descifraremos ciphertext"
   ]
  },
  {
   "cell_type": "code",
   "execution_count": null,
   "id": "c0ad3626",
   "metadata": {},
   "outputs": [],
   "source": [
    "plaintext = machine.encipher_text(ciphertext)"
   ]
  },
  {
   "cell_type": "markdown",
   "id": "13172dd3",
   "metadata": {},
   "source": [
    "Mostramos mensaje descifrado:"
   ]
  },
  {
   "cell_type": "code",
   "execution_count": null,
   "id": "eb3d5d74",
   "metadata": {},
   "outputs": [],
   "source": [
    "plaintext"
   ]
  },
  {
   "cell_type": "markdown",
   "id": "9eee874f",
   "metadata": {},
   "source": [
    "Comprobaremos, comparando con plaintextCryptoMuseum, que el mensaje descifrado es correcto"
   ]
  },
  {
   "cell_type": "code",
   "execution_count": null,
   "id": "7e102da6",
   "metadata": {},
   "outputs": [],
   "source": [
    "plaintextCryptoMuseum = \"KRKRALLEXXFOLGENDESISTSOFORTBEKANNTZUGEBENXXICHHABEFOLGELNBEBEFEHLERHALTENXXJANSTERLEDESBISHERIGXNREICHSMARSCHALLSJGOERINGJSETZTDERFUEHRERSIEYHVRRGRZSSADMIRALYALSSEINENNACHFOLGEREINXSCHRIFTLSCHEVOLLMACHTUNTERWEGSXABSOFORTSOLLENSIESAEMTLICHEMASSNAHMENVERFUEGENYDIESICHAUSDERGEGENWAERTIGENLAGEERGEBENXGEZXREICHSLEITEIKKTULPEKKJBORMANNJXXOBXDXMMMDURNHFKSTXKOMXADMXUUUBOOIEXKP\""
   ]
  },
  {
   "cell_type": "code",
   "execution_count": null,
   "id": "23f4e40a",
   "metadata": {},
   "outputs": [],
   "source": [
    "plaintext == plaintextCryptoMuseum"
   ]
  },
  {
   "cell_type": "markdown",
   "id": "79069c70",
   "metadata": {},
   "source": [
    "# Tarea 4"
   ]
  },
  {
   "cell_type": "markdown",
   "id": "fcf3cef3",
   "metadata": {},
   "source": [
    "Para que el mensaje no pueda ser leído por intermediarios, este debe estar cifrado con una configuración de la máquina que solo conozcan emisor y receptor. Tras cifrar mediante esta configuración, se debería añadir un mensaje inicial que indique a quién va dirigido. Este mensaje inicial junto con el resto de mensaje confidencial ya cifrado, se cifrarán conjuntamente con la configuración que corresponda para que pueda ser descifrado por el intermediario receptor y pueda saber a quién va dirigido."
   ]
  },
  {
   "cell_type": "markdown",
   "id": "dadefec4",
   "metadata": {},
   "source": [
    "Vamos a simular que el oficial de tierra del alto mando Friedrich (que tiene una M3) quiere enviar un mensaje confidencial al capitán de submarino Berthold. Para comprobar que una M4 puede descifrar lo de una M3 supondremos que en el submarino tienen una M4"
   ]
  },
  {
   "cell_type": "markdown",
   "id": "2c3d3907",
   "metadata": {},
   "source": [
    "El mensaje confidencial, en el contexto de comunicaciones previas, será: \"ICHVERTRAUEALLMEINENMANNERN\" -> \"Ich vertraue all meinen Männern\" (Confío en todos mis hombres)"
   ]
  },
  {
   "cell_type": "markdown",
   "id": "4f79f1c3",
   "metadata": {},
   "source": [
    "En nuestra simulación, Fiedrich y Berthold disponen de hoja confidencial (secreta y solo conocida por ellos) para oficiales o altos mandos en la que hay distintas configuraciones en plugboard dependiendo del día, y un grundstellung asignado diferente para cada oficial."
   ]
  },
  {
   "cell_type": "markdown",
   "id": "23b1de4c",
   "metadata": {},
   "source": [
    "Vamos a simular cómo sería el mensaje entre altos mandos: del oficial Friedrich al capitán Berthold"
   ]
  },
  {
   "cell_type": "markdown",
   "id": "90cbfde6",
   "metadata": {},
   "source": [
    "El oficial Friedrich coloca el cableado del plugboard correspondiente al día, y su grundstellung. El resto de configuración la correspondiente al keysheet conocido por todos. Simulamos día 29 de octubre de 1944"
   ]
  },
  {
   "cell_type": "code",
   "execution_count": null,
   "id": "876ae5cd",
   "metadata": {},
   "outputs": [],
   "source": [
    "machine_oficial_F = EnigmaMachine(\n",
    " pb_settings='AO DQ CY HU JN LX PR SZ VW FI', # la del keysheet de oficiales\n",
    " sorted_rotors='254',\n",
    " ringstellung=ind_ch[19]+ind_ch[9]+ind_ch[24],\n",
    " reflector='B'\n",
    "       )\n",
    "       \n",
    "machine_oficial_F.grundstellung('GCA') # grundstellung de keysheet de oficiales"
   ]
  },
  {
   "cell_type": "code",
   "execution_count": null,
   "id": "c73c61e8",
   "metadata": {},
   "outputs": [],
   "source": [
    "official_F_message = \"ICHVERTRAUEALLMEINENMANNERN\""
   ]
  },
  {
   "cell_type": "code",
   "execution_count": null,
   "id": "fa685d35",
   "metadata": {},
   "outputs": [],
   "source": [
    "offF_ciphered_mess = machine_oficial_F.encipher_text(official_F_message)"
   ]
  },
  {
   "cell_type": "markdown",
   "id": "78368732",
   "metadata": {},
   "source": [
    "Mensaje cifrado"
   ]
  },
  {
   "cell_type": "code",
   "execution_count": null,
   "id": "edd19d85",
   "metadata": {},
   "outputs": [],
   "source": [
    "offF_ciphered_mess"
   ]
  },
  {
   "cell_type": "markdown",
   "id": "a50e4926",
   "metadata": {},
   "source": [
    "Ahora el oficial Friedrich pasa ese mensaje cifrado a alguien de rango inferior que se encargará de enviar el mensaje con la configuración conocida entre los de su rango"
   ]
  },
  {
   "cell_type": "code",
   "execution_count": null,
   "id": "2b8d9129",
   "metadata": {},
   "outputs": [],
   "source": [
    "machine_rangoinferior1 = EnigmaMachine(\n",
    " pb_settings='ZU HL CQ WM OA PY EB TR DN VI',\n",
    " sorted_rotors='254',\n",
    " ringstellung=ind_ch[19]+ind_ch[9]+ind_ch[24],\n",
    " reflector='B'\n",
    "       )\n",
    "\n",
    "machine_rangoinferior1.grundstellung('LFD') # 'SPS' aleatorio, se enviará con el mensaje\n",
    "msg_key = machine_rangoinferior1.encipher_text('MIC') # 'RLO' aleatorio, msg_key se enviará con el mensaje\n",
    "msg_key"
   ]
  },
  {
   "cell_type": "code",
   "execution_count": null,
   "id": "69c0d885",
   "metadata": {},
   "outputs": [],
   "source": [
    "machine_rangoinferior1.grundstellung('MIC')"
   ]
  },
  {
   "cell_type": "markdown",
   "id": "dc0b4ce7",
   "metadata": {},
   "source": [
    "Recibe el mensaje cifrado y añade \"OFFIZIERBERTHOLDVONKAPITANFRIEDRICH\" (indica oficial al que va dirigido y de quién). El mensaje que cifrará el de rango inferior es"
   ]
  },
  {
   "cell_type": "code",
   "execution_count": null,
   "id": "522de95e",
   "metadata": {},
   "outputs": [],
   "source": [
    "message = \"OFFIZIERBERTHOLDVONKAPITANFRIEDRICH\" + offF_ciphered_mess; message"
   ]
  },
  {
   "cell_type": "markdown",
   "id": "6b02471e",
   "metadata": {},
   "source": [
    "Ahora lo cifra todo con la configuración del keysheet conocido por todos"
   ]
  },
  {
   "cell_type": "code",
   "execution_count": null,
   "id": "0ec6aa8a",
   "metadata": {},
   "outputs": [],
   "source": [
    "ciphered_message = machine_rangoinferior1.encipher_text(message)"
   ]
  },
  {
   "cell_type": "markdown",
   "id": "ba3a9fff",
   "metadata": {},
   "source": [
    "Mensaje cifrado a enviar:"
   ]
  },
  {
   "cell_type": "code",
   "execution_count": null,
   "id": "e1e5fda9",
   "metadata": {
    "scrolled": true
   },
   "outputs": [],
   "source": [
    "ciphered_message"
   ]
  },
  {
   "cell_type": "markdown",
   "id": "00da1629",
   "metadata": {},
   "source": [
    "El mensaje se envía con grupo de 5 letras que indica Kenngruppen: 'RDOID'+ciphered_message"
   ]
  },
  {
   "cell_type": "code",
   "execution_count": null,
   "id": "c2ddb92c",
   "metadata": {},
   "outputs": [],
   "source": [
    "'RDOID'+ciphered_message"
   ]
  },
  {
   "cell_type": "markdown",
   "id": "74374bcf",
   "metadata": {},
   "source": [
    "Ahora alguien del mismo rango en el submarino recibe el mensaje y lo descifra con la misma configuración de máquina, (ignora Kenngruppen)"
   ]
  },
  {
   "cell_type": "code",
   "execution_count": null,
   "id": "5bf630bd",
   "metadata": {},
   "outputs": [],
   "source": [
    "machine_rangoinferior2 = EnigmaMachine(\n",
    " pb_settings='ZU HL CQ WM OA PY EB TR DN VI',\n",
    " sorted_rotors='b254',\n",
    " ringstellung='A'+ind_ch[19]+ind_ch[9]+ind_ch[24],\n",
    " reflector='B Thin'\n",
    "       )\n",
    "\n",
    "machine_rangoinferior2.grundstellung('ALFD')\n",
    "un_msg_key = machine_rangoinferior2.encipher_text(msg_key)\n",
    "un_msg_key"
   ]
  },
  {
   "cell_type": "code",
   "execution_count": null,
   "id": "01c76f56",
   "metadata": {},
   "outputs": [],
   "source": [
    "machine_rangoinferior2.grundstellung('A'+un_msg_key)"
   ]
  },
  {
   "cell_type": "code",
   "execution_count": null,
   "id": "9b591535",
   "metadata": {},
   "outputs": [],
   "source": [
    "deciphered_message=machine_rangoinferior2.encipher_text(ciphered_message)"
   ]
  },
  {
   "cell_type": "code",
   "execution_count": null,
   "id": "9f55e507",
   "metadata": {},
   "outputs": [],
   "source": [
    "deciphered_message"
   ]
  },
  {
   "cell_type": "markdown",
   "id": "1cfc6336",
   "metadata": {},
   "source": [
    "Vemos que comienza por OFFIZIERBERTHOLDVONKAPITANFRIEDRICH, el rango inferior sabrá que debe entregar el resto del mensaje al capitán Berthold. El mensaje para Berthold será"
   ]
  },
  {
   "cell_type": "code",
   "execution_count": null,
   "id": "3f7687d6",
   "metadata": {},
   "outputs": [],
   "source": [
    "capB_message = deciphered_message.replace('OFFIZIERBERTHOLDVONKAPITANFRIEDRICH','')"
   ]
  },
  {
   "cell_type": "code",
   "execution_count": null,
   "id": "fa4ba3bd",
   "metadata": {
    "scrolled": true
   },
   "outputs": [],
   "source": [
    "capB_message"
   ]
  },
  {
   "cell_type": "code",
   "execution_count": null,
   "id": "50cc4327",
   "metadata": {},
   "outputs": [],
   "source": [
    "capB_message == offF_ciphered_mess"
   ]
  },
  {
   "cell_type": "markdown",
   "id": "d1c27895",
   "metadata": {},
   "source": [
    "Ahora puede obtener su mensaje el capitán Berthold. Este consultará su hoja confidencial de altos mandos para configurar el plugboard correspondiente al día y los rotores correspondientes a los del oficial Friedrich"
   ]
  },
  {
   "cell_type": "code",
   "execution_count": null,
   "id": "ce56598b",
   "metadata": {},
   "outputs": [],
   "source": [
    "# misma configuración que oficial Friedrich\n",
    "machine_capitan_B = EnigmaMachine(\n",
    " pb_settings='AO DQ CY HU JN LX PR SZ VW FI',\n",
    " sorted_rotors='b254',\n",
    " ringstellung='A'+ind_ch[19]+ind_ch[9]+ind_ch[24],\n",
    " reflector='B Thin'\n",
    "       )\n",
    "       \n",
    "machine_capitan_B.grundstellung('AGCA')"
   ]
  },
  {
   "cell_type": "code",
   "execution_count": null,
   "id": "502c02e6",
   "metadata": {},
   "outputs": [],
   "source": [
    "received_message_capB = machine_capitan_B.encipher_text(capB_message)"
   ]
  },
  {
   "cell_type": "code",
   "execution_count": null,
   "id": "0b3e1c95",
   "metadata": {
    "scrolled": true
   },
   "outputs": [],
   "source": [
    "received_message_capB"
   ]
  },
  {
   "cell_type": "markdown",
   "id": "769dd280",
   "metadata": {},
   "source": [
    "ICHVERTRAUEALLMEINENMANNERN ->  \"Ich vertraue all meinen Männern\" (Confío en todos mis hombres)"
   ]
  },
  {
   "cell_type": "markdown",
   "id": "f91a4eb6",
   "metadata": {},
   "source": [
    "Comprobamos que es correcto:"
   ]
  },
  {
   "cell_type": "code",
   "execution_count": null,
   "id": "ef09b342",
   "metadata": {},
   "outputs": [],
   "source": [
    "received_message_capB == official_F_message"
   ]
  }
 ],
 "metadata": {
  "kernelspec": {
   "display_name": "Python 3",
   "language": "python",
   "name": "python3"
  },
  "language_info": {
   "codemirror_mode": {
    "name": "ipython",
    "version": 3
   },
   "file_extension": ".py",
   "mimetype": "text/x-python",
   "name": "python",
   "nbconvert_exporter": "python",
   "pygments_lexer": "ipython3",
   "version": "3.8.8"
  }
 },
 "nbformat": 4,
 "nbformat_minor": 5
}
